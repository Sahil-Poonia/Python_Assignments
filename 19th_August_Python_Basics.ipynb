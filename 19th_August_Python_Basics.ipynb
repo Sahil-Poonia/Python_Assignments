{
 "cells": [
  {
   "cell_type": "markdown",
   "id": "6c46b437-4483-4d00-932a-62ee5f01b1ea",
   "metadata": {},
   "source": [
    "# Python Basics Variable"
   ]
  },
  {
   "cell_type": "markdown",
   "id": "bb0b67b9-22af-40fe-a4d8-6f67e2eee272",
   "metadata": {},
   "source": [
    "1. Swapping two variables without using a temporary variable is very simple task in python by using the tuple unpacking method."
   ]
  },
  {
   "cell_type": "code",
   "execution_count": 8,
   "id": "4241c347-7654-426f-88c4-6d2ea4cfee58",
   "metadata": {},
   "outputs": [
    {
     "name": "stdout",
     "output_type": "stream",
     "text": [
      "Before Swapping => x:10 & y:20\n",
      "After Swapping => x:20 & y:10\n"
     ]
    }
   ],
   "source": [
    "x = 10\n",
    "y = 20\n",
    "\n",
    "print(f\"Before Swapping => x:{x} & y:{y}\")\n",
    "\n",
    "y, x = x, y # Swapping by Tuple Unpacking\n",
    "\n",
    "print(f\"After Swapping => x:{x} & y:{y}\")"
   ]
  },
  {
   "cell_type": "markdown",
   "id": "d8ddf58f-1b45-4858-84e1-8cde17463451",
   "metadata": {},
   "source": [
    "When we write `y, x = x, y`, It first creates a tuple with values of x and y at a separate memory location than the original x and y variables. This evaluates the statement like this: `y, x = (10, 20)` and finally the assignment operator unpacks the tuple and assigns the individual values to the respective variables. Ultimately swapping the values of those variables without needing a temporary variable."
   ]
  },
  {
   "cell_type": "markdown",
   "id": "7d66d262-b05b-403a-b296-fff9fd63347d",
   "metadata": {},
   "source": [
    "2. Calculate the area of a rectangle."
   ]
  },
  {
   "cell_type": "code",
   "execution_count": 4,
   "id": "74bd5a47-329d-405b-81c5-1266493e478e",
   "metadata": {},
   "outputs": [
    {
     "name": "stdin",
     "output_type": "stream",
     "text": [
      "[?] Width of the rectangle:  23.4\n",
      "[?] Height of the rectangle:  12\n"
     ]
    },
    {
     "name": "stdout",
     "output_type": "stream",
     "text": [
      "[+] Area of the rectangle: 280.79999999999995\n"
     ]
    }
   ],
   "source": [
    "width = float(input(\"[?] Width of the rectangle: \"))\n",
    "height = float(input(\"[?] Height of the rectangle: \"))\n",
    "area = width * height\n",
    "print(f\"[+] Area of the rectangle: {area}\")"
   ]
  },
  {
   "cell_type": "markdown",
   "id": "d354622f-7ce7-4fdf-a260-75f261276943",
   "metadata": {},
   "source": [
    "- `input()` function is used to take user input with an optional prompt string passed as an argument.\n",
    "- `float()` function is used to convert the string value returned by the `input()` into a floating point value such that arithmetical operations can be performed on them."
   ]
  },
  {
   "cell_type": "markdown",
   "id": "2d1bf96f-0c03-4c59-b70c-457195550b36",
   "metadata": {},
   "source": [
    "3. Conversion from Celsius to Fahrenheit."
   ]
  },
  {
   "cell_type": "code",
   "execution_count": 5,
   "id": "0b46f702-0b1b-45ae-aeb8-7cc4cb203dff",
   "metadata": {},
   "outputs": [
    {
     "name": "stdin",
     "output_type": "stream",
     "text": [
      "[?] Temperature (°C):  25\n"
     ]
    },
    {
     "name": "stdout",
     "output_type": "stream",
     "text": [
      "[+] Temperature (°F): 77.0\n"
     ]
    }
   ],
   "source": [
    "c_temp = float(input(\"[?] Temperature (°C): \"))\n",
    "f_temp = (c_temp * 9/5) + 32\n",
    "print(f\"[+] Temperature (°F): {f_temp}\")"
   ]
  },
  {
   "cell_type": "markdown",
   "id": "f84d6830-b0d5-4d6e-ba8e-042b3b0df0a4",
   "metadata": {},
   "source": [
    "# String Based Questions"
   ]
  },
  {
   "cell_type": "markdown",
   "id": "8985ad97-efff-4f33-9228-de106c27d29a",
   "metadata": {},
   "source": [
    "1. Length of a string can be fetched by using the built-in `len()` function."
   ]
  },
  {
   "cell_type": "code",
   "execution_count": 6,
   "id": "572b4bee-8cc3-402e-a081-86e11bd7c575",
   "metadata": {},
   "outputs": [
    {
     "name": "stdin",
     "output_type": "stream",
     "text": [
      "[?] Enter a string:  Sahil Poonia\n"
     ]
    },
    {
     "name": "stdout",
     "output_type": "stream",
     "text": [
      "[+] Lenght of the string: 12\n"
     ]
    }
   ],
   "source": [
    "string = input(\"[?] Enter a string: \")\n",
    "print(f\"[+] Lenght of the string: {len(string)}\")"
   ]
  },
  {
   "cell_type": "markdown",
   "id": "afbc9aa8-75e0-42f5-bc67-3d30ef8e258f",
   "metadata": {},
   "source": [
    "2. Vowel counter program uses the built-in `count()` method of strings. It returns the number of occurences of a given substring in the string it is applied to."
   ]
  },
  {
   "cell_type": "code",
   "execution_count": 7,
   "id": "e78859d6-b4b9-4032-bd9d-0f75002d8be1",
   "metadata": {},
   "outputs": [
    {
     "name": "stdin",
     "output_type": "stream",
     "text": [
      "[?] Enter a sentence:  I'm a very good boy\n"
     ]
    },
    {
     "name": "stdout",
     "output_type": "stream",
     "text": [
      "[+] Occurences of vowels in the sentence:\n",
      "\ta: 1\n",
      "\te: 1\n",
      "\ti: 0\n",
      "\to: 3\n",
      "\tu: 0\n"
     ]
    }
   ],
   "source": [
    "string = input(\"[?] Enter a sentence: \")\n",
    "a, e, i, o , u = string.count(\"a\"), string.count(\"e\"), string.count(\"i\"), string.count(\"o\"), string.count(\"u\")\n",
    "print(f\"[+] Occurences of vowels in the sentence:\\n\\ta: {a}\\n\\te: {e}\\n\\ti: {i}\\n\\to: {o}\\n\\tu: {u}\")"
   ]
  },
  {
   "cell_type": "markdown",
   "id": "9dd2e2e2-642e-4c2e-a71d-16b4f6b88474",
   "metadata": {},
   "source": [
    "3. Reversing a string using string slicing."
   ]
  },
  {
   "cell_type": "code",
   "execution_count": 9,
   "id": "325637d3-fd25-49ec-a7ad-fbd31f54a7df",
   "metadata": {},
   "outputs": [
    {
     "name": "stdin",
     "output_type": "stream",
     "text": [
      "[?] Enter a string:  Sahil Poonia\n"
     ]
    },
    {
     "name": "stdout",
     "output_type": "stream",
     "text": [
      "[+] Reversed string: ainooP lihaS\n"
     ]
    }
   ],
   "source": [
    "string = input(\"[?] Enter a string: \")\n",
    "print(f\"[+] Reversed string: {string[-1::-1]}\")"
   ]
  },
  {
   "cell_type": "markdown",
   "id": "4ea561c3-a9ba-4e75-90a7-7efad65b33a2",
   "metadata": {},
   "source": [
    "It starts at the very last character of string, given the negative indexing, and goes to the infinity as no upper limit is assigned by jumping in the backward direction with negative jump value."
   ]
  },
  {
   "cell_type": "markdown",
   "id": "411f6018-e8a6-48fa-8788-cfb1d00baa0d",
   "metadata": {},
   "source": [
    "4. Check for palindrome string."
   ]
  },
  {
   "cell_type": "code",
   "execution_count": 12,
   "id": "3a88f335-b388-487d-8e6c-d0771ce7e68d",
   "metadata": {},
   "outputs": [
    {
     "name": "stdin",
     "output_type": "stream",
     "text": [
      "[?] Enter a string:  malayalam\n"
     ]
    },
    {
     "name": "stdout",
     "output_type": "stream",
     "text": [
      "[+] String a plaindrome? True\n"
     ]
    }
   ],
   "source": [
    "string = input(\"[?] Enter a string: \")\n",
    "is_palindrome = string == string[::-1]\n",
    "print(f\"[+] String a plaindrome? {is_palindrome}\")"
   ]
  },
  {
   "cell_type": "markdown",
   "id": "da128172-e3a7-4750-ac32-c454f927451b",
   "metadata": {},
   "source": [
    "Using string slicing and comparision operator it is possible to check if a string is same forwards and backwards."
   ]
  },
  {
   "cell_type": "markdown",
   "id": "46a2e9e2-1b12-42dc-97a1-7d5e896f7ea3",
   "metadata": {},
   "source": [
    "5. To remove all the spaces from a string, we can use the built-in `replace()` method. `strip()` method cannot be used because it only removes spaces from starting and end of the string but not from betweem."
   ]
  },
  {
   "cell_type": "code",
   "execution_count": 13,
   "id": "dd1fa899-4758-4522-8fb9-f819e6b419e2",
   "metadata": {},
   "outputs": [
    {
     "name": "stdin",
     "output_type": "stream",
     "text": [
      "[?] Enter a string:      Sahil.  Poonia. \n"
     ]
    },
    {
     "name": "stdout",
     "output_type": "stream",
     "text": [
      "[+] All spaces are removed: Sahil.Poonia.\n"
     ]
    }
   ],
   "source": [
    "string = input(\"[?] Enter a string: \")\n",
    "string_without_spaces = string.replace(\" \", \"\")\n",
    "print(f\"[+] All spaces are removed: {string_without_spaces}\")"
   ]
  }
 ],
 "metadata": {
  "kernelspec": {
   "display_name": "Python 3 (ipykernel)",
   "language": "python",
   "name": "python3"
  },
  "language_info": {
   "codemirror_mode": {
    "name": "ipython",
    "version": 3
   },
   "file_extension": ".py",
   "mimetype": "text/x-python",
   "name": "python",
   "nbconvert_exporter": "python",
   "pygments_lexer": "ipython3",
   "version": "3.10.8"
  }
 },
 "nbformat": 4,
 "nbformat_minor": 5
}
